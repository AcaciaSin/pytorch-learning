{
 "cells": [
  {
   "cell_type": "code",
   "execution_count": 1,
   "id": "cf0119c1",
   "metadata": {},
   "outputs": [],
   "source": [
    "import torch\n",
    "from torch import nn\n",
    "import torch.nn.functional as F\n",
    "from d2l import torch as d2l"
   ]
  },
  {
   "cell_type": "markdown",
   "id": "35a443b0",
   "metadata": {},
   "source": [
    "## 填充和步幅"
   ]
  },
  {
   "cell_type": "code",
   "execution_count": 9,
   "id": "07e695f0",
   "metadata": {},
   "outputs": [
    {
     "data": {
      "text/plain": [
       "torch.Size([8, 8])"
      ]
     },
     "execution_count": 9,
     "metadata": {},
     "output_type": "execute_result"
    }
   ],
   "source": [
    "#在所有侧边填充一个像素，padding=1\n",
    "def comp_conv2d(conv2d, X):\n",
    "    X = X.reshape((1, 1) + X.shape)\n",
    "    Y = conv2d(X)\n",
    "    return Y.reshape(Y.shape[2:])\n",
    "\n",
    "conv2d = nn.Conv2d(1, 1, kernel_size=3, padding=1)\n",
    "X = torch.rand(size=(8, 8))\n",
    "comp_conv2d(conv2d, X).shape\n",
    "#8-3+1+2 = X.shape - kernel_size + 1 + padding(=2)"
   ]
  },
  {
   "cell_type": "markdown",
   "id": "49ea2dc0",
   "metadata": {},
   "source": [
    "### 填充不同的高度和宽度"
   ]
  },
  {
   "cell_type": "code",
   "execution_count": 10,
   "id": "96695308",
   "metadata": {},
   "outputs": [
    {
     "data": {
      "text/plain": [
       "torch.Size([8, 8])"
      ]
     },
     "execution_count": 10,
     "metadata": {},
     "output_type": "execute_result"
    }
   ],
   "source": [
    "#上下填充行数为2，左右填充列数为1\n",
    "conv2d = nn.Conv2d(1, 1, kernel_size=(5, 3), padding=(2, 1))\n",
    "comp_conv2d(conv2d, X).shape\n",
    "#8-5+1+4 = 8, 8-3+1+2 = 8"
   ]
  },
  {
   "cell_type": "markdown",
   "id": "6a68c90c",
   "metadata": {},
   "source": [
    "### 将高度和宽度的步幅设置为2"
   ]
  },
  {
   "cell_type": "code",
   "execution_count": 11,
   "id": "8981fc5b",
   "metadata": {},
   "outputs": [
    {
     "data": {
      "text/plain": [
       "torch.Size([4, 4])"
      ]
     },
     "execution_count": 11,
     "metadata": {},
     "output_type": "execute_result"
    }
   ],
   "source": [
    "conv2d = nn.Conv2d(1, 1, kernel_size=3, padding=1, stride=2)\n",
    "comp_conv2d(conv2d, X).shape\n",
    "#(8-3+1+2)/2 = 4"
   ]
  },
  {
   "cell_type": "markdown",
   "id": "6e21dfc2",
   "metadata": {},
   "source": [
    "### 一个稍微复杂的例子"
   ]
  },
  {
   "cell_type": "code",
   "execution_count": 12,
   "id": "955bc19f",
   "metadata": {},
   "outputs": [
    {
     "data": {
      "text/plain": [
       "torch.Size([2, 2])"
      ]
     },
     "execution_count": 12,
     "metadata": {},
     "output_type": "execute_result"
    }
   ],
   "source": [
    "conv2d = nn.Conv2d(1, 1, kernel_size=(3, 5), padding=(0, 1), stride=(3, 4))\n",
    "comp_conv2d(conv2d, X).shape\n",
    "#stride没有加1的操作，只padding需要加1\n",
    "#(8-3+0+3)/3 = 2, (8-5+1*2+4)/4 = 2"
   ]
  },
  {
   "cell_type": "code",
   "execution_count": null,
   "id": "b7de5df3",
   "metadata": {},
   "outputs": [],
   "source": []
  },
  {
   "cell_type": "code",
   "execution_count": null,
   "id": "f43703db",
   "metadata": {},
   "outputs": [],
   "source": []
  },
  {
   "cell_type": "code",
   "execution_count": null,
   "id": "783c7542",
   "metadata": {},
   "outputs": [],
   "source": []
  }
 ],
 "metadata": {
  "kernelspec": {
   "display_name": "Python 3 (ipykernel)",
   "language": "python",
   "name": "python3"
  },
  "language_info": {
   "codemirror_mode": {
    "name": "ipython",
    "version": 3
   },
   "file_extension": ".py",
   "mimetype": "text/x-python",
   "name": "python",
   "nbconvert_exporter": "python",
   "pygments_lexer": "ipython3",
   "version": "3.7.16"
  }
 },
 "nbformat": 4,
 "nbformat_minor": 5
}
