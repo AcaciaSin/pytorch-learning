{
 "cells": [
  {
   "cell_type": "code",
   "execution_count": 1,
   "id": "a22f9dd7",
   "metadata": {},
   "outputs": [],
   "source": [
    "import matplotlib.pyplot as plt\n",
    "import random\n",
    "import torch"
   ]
  },
  {
   "cell_type": "code",
   "execution_count": 2,
   "id": "9cca2ce4",
   "metadata": {},
   "outputs": [],
   "source": [
    "#用带有噪声的线性模型构造一个人造数据集\n",
    "def synthetic_data(w,b, num_examples):\n",
    "    X = torch.normal(0, 1, (num_examples, len(w)))\n",
    "    y = torch.matmul(X, w) + b\n",
    "    y += torch.normal(0, 0.01, y.shape)\n",
    "    return X, y.reshape((-1,1))\n",
    "true_w = torch.tensor([2, -3.4], dtype=torch.float)\n",
    "true_b = 4.2\n",
    "features, labels = synthetic_data(true_w, true_b, 1000)"
   ]
  },
  {
   "cell_type": "code",
   "execution_count": 3,
   "id": "f6a72e7a",
   "metadata": {},
   "outputs": [
    {
     "name": "stdout",
     "output_type": "stream",
     "text": [
      "features: tensor([1.1256, 1.3771]) \n",
      "labels: tensor([1.7464])\n"
     ]
    }
   ],
   "source": [
    "print('features:', features[0],'\\nlabels:', labels[0])"
   ]
  },
  {
   "cell_type": "code",
   "execution_count": 4,
   "id": "0f14b8ea",
   "metadata": {},
   "outputs": [
    {
     "data": {
      "text/plain": [
       "<matplotlib.collections.PathCollection at 0x20c6a750fc8>"
      ]
     },
     "execution_count": 4,
     "metadata": {},
     "output_type": "execute_result"
    },
    {
     "data": {
      "image/png": "[encoded data removed]",
      "text/plain": [
       "<Figure size 640x480 with 1 Axes>"
      ]
     },
     "metadata": {},
     "output_type": "display_data"
    }
   ],
   "source": [
    "#设置图片大小\n",
    "# plt.figure(figsize=(10, 8), dpi=60)\n",
    "plt.scatter(features[:, (1)].detach().numpy(), labels.detach().numpy(),1)"
   ]
  },
  {
   "cell_type": "code",
   "execution_count": 5,
   "id": "97963f72",
   "metadata": {},
   "outputs": [
    {
     "name": "stdout",
     "output_type": "stream",
     "text": [
      "tensor([[-0.0824, -0.2465],\n",
      "        [ 0.8011,  0.7516],\n",
      "        [ 0.7868, -0.9924],\n",
      "        [ 0.7927, -0.0985],\n",
      "        [ 1.1988, -0.6796],\n",
      "        [-1.8386,  0.0983],\n",
      "        [ 0.2557, -0.2475],\n",
      "        [-0.9681, -1.2243],\n",
      "        [ 0.1633,  0.9943],\n",
      "        [-0.9719,  0.4529]]) \n",
      " tensor([[4.8697],\n",
      "        [3.2487],\n",
      "        [9.1362],\n",
      "        [6.1128],\n",
      "        [8.9062],\n",
      "        [0.1786],\n",
      "        [5.5661],\n",
      "        [6.4291],\n",
      "        [1.1499],\n",
      "        [0.7084]])\n"
     ]
    }
   ],
   "source": [
    "#yield : python的一个iterator，每次调用一次iteration，返回一些信息。\n",
    "#定义一个data_iter函数，该函数接收批量大小、特征矩阵和标签向量作为输入，生成大小为batch_size的小批量\n",
    "def data_iter(batch_size, features, labels):\n",
    "    num_examples = len(features)\n",
    "    indices = list(range(num_examples))\n",
    "    #shuffle函数：随机读取样本\n",
    "    random.shuffle(indices)\n",
    "    for i in range(0, num_examples, batch_size):\n",
    "        batch_indices = torch.tensor(\n",
    "            indices[i: min(i + batch_size, num_examples)]\n",
    "        )\n",
    "        yield features[batch_indices], labels[batch_indices]\n",
    "\n",
    "batch_size = 10\n",
    "for X,y in data_iter(batch_size, features, labels):\n",
    "    print(X, '\\n', y)\n",
    "    break"
   ]
  },
  {
   "cell_type": "code",
   "execution_count": 6,
   "id": "d1588403",
   "metadata": {},
   "outputs": [],
   "source": [
    "w = torch.normal(0, 0.01, size=(2,1), requires_grad=True)\n",
    "b = torch.zeros(1, requires_grad=True)\n",
    "\n",
    "def linreg(X, w, b):\n",
    "    #线性回归模型\n",
    "    return torch.matmul(X, w) + b"
   ]
  },
  {
   "cell_type": "code",
   "execution_count": 7,
   "id": "c51ca2b9",
   "metadata": {},
   "outputs": [],
   "source": [
    "#定义损失函数\n",
    "def squared_loss(y_hat, y):\n",
    "    #均方损失\n",
    "    return (y_hat - y.reshape(y_hat.shape)) ** 2 / 2"
   ]
  },
  {
   "cell_type": "code",
   "execution_count": 8,
   "id": "956b8c0e",
   "metadata": {},
   "outputs": [],
   "source": [
    "#定义优化算法sgd = stochastic gradient descent\n",
    "def sgd(params, lr, batch_size):\n",
    "    with torch.no_grad():\n",
    "        for param in params:\n",
    "            param -= lr * param.grad / batch_size\n",
    "            param.grad.zero_()"
   ]
  },
  {
   "cell_type": "code",
   "execution_count": 9,
   "id": "b22cce34",
   "metadata": {},
   "outputs": [
    {
     "name": "stdout",
     "output_type": "stream",
     "text": [
      "epoch 1,loss 0.038887\n",
      "epoch 2,loss 0.000147\n",
      "epoch 3,loss 0.000053\n",
      "epoch 4,loss 0.000052\n",
      "epoch 5,loss 0.000052\n",
      "epoch 6,loss 0.000052\n",
      "epoch 7,loss 0.000052\n",
      "epoch 8,loss 0.000052\n",
      "epoch 9,loss 0.000052\n",
      "epoch 10,loss 0.000052\n",
      "epoch 11,loss 0.000052\n",
      "epoch 12,loss 0.000052\n",
      "epoch 13,loss 0.000052\n",
      "epoch 14,loss 0.000052\n",
      "epoch 15,loss 0.000052\n",
      "epoch 16,loss 0.000052\n",
      "epoch 17,loss 0.000052\n",
      "epoch 18,loss 0.000052\n",
      "epoch 19,loss 0.000052\n",
      "epoch 20,loss 0.000052\n",
      "epoch 21,loss 0.000052\n",
      "epoch 22,loss 0.000052\n",
      "epoch 23,loss 0.000052\n",
      "epoch 24,loss 0.000052\n",
      "epoch 25,loss 0.000052\n",
      "epoch 26,loss 0.000052\n",
      "epoch 27,loss 0.000052\n",
      "epoch 28,loss 0.000052\n",
      "epoch 29,loss 0.000052\n",
      "epoch 30,loss 0.000052\n"
     ]
    }
   ],
   "source": [
    "#训练过程\n",
    "lr = 0.03\n",
    "num_epochs = 30\n",
    "net = linreg\n",
    "loss = squared_loss\n",
    "\n",
    "for epoch in range(num_epochs):\n",
    "    #对数据扫\n",
    "    for X,y in data_iter(batch_size, features, labels):\n",
    "        #计算w, b的梯度\n",
    "        l = loss(net(X, w, b), y) #X'和y’的小批量损失\n",
    "        # 因为l形状是(batch_size,1)，而不是一个标量。l中的所有元素被加到一起，\n",
    "        # 并以此计算关于[w,b]的梯度\n",
    "        l.sum().backward()\n",
    "        sgd([w,b], lr, batch_size) #使用参数的梯度更新参数\n",
    "    #评价训练进度，把整个数据和预测做一下损失\n",
    "    with torch.no_grad():\n",
    "        train_l = loss(net(features, w, b), labels)\n",
    "        print(f'epoch {epoch+1},loss {float(train_l.mean()):f}')\n",
    "  "
   ]
  },
  {
   "cell_type": "code",
   "execution_count": 10,
   "id": "b4536bac",
   "metadata": {},
   "outputs": [
    {
     "name": "stdout",
     "output_type": "stream",
     "text": [
      "w的误差为 tensor([ 0.0001, -0.0005], grad_fn=<SubBackward0>)\n",
      "b的误差为tensor([-0.0009], grad_fn=<RsubBackward1>)\n"
     ]
    }
   ],
   "source": [
    "print(f'w的误差为 {true_w - w.reshape(true_w.shape)}')\n",
    "print(f'b的误差为{true_b - b}')"
   ]
  },
  {
   "cell_type": "code",
   "execution_count": null,
   "id": "ffae787d",
   "metadata": {},
   "outputs": [],
   "source": []
  }
 ],
 "metadata": {
  "kernelspec": {
   "display_name": "Python 3 (ipykernel)",
   "language": "python",
   "name": "python3"
  },
  "language_info": {
   "codemirror_mode": {
    "name": "ipython",
    "version": 3
   },
   "file_extension": ".py",
   "mimetype": "text/x-python",
   "name": "python",
   "nbconvert_exporter": "python",
   "pygments_lexer": "ipython3",
   "version": "3.7.16"
  }
 },
 "nbformat": 4,
 "nbformat_minor": 5
}
